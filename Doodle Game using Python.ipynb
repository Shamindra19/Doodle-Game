{
 "cells": [
  {
   "cell_type": "code",
   "execution_count": 1,
   "metadata": {},
   "outputs": [
    {
     "name": "stdout",
     "output_type": "stream",
     "text": [
      "CARD 1:  y t E B L\n",
      "CARD 2:  L J p b x\n",
      "What is the similar alphabet in both cards?  L\n",
      "///You are correct///\n"
     ]
    }
   ],
   "source": [
    "import string\n",
    "import random\n",
    "symbol=[]\n",
    "symbol=list(string.ascii_letters)\n",
    "card1=[0]*5\n",
    "card2=[0]*5\n",
    "pos1=random.randint(0,4)\n",
    "pos2=random.randint(0,4)\n",
    "samesymbol=random.choice(symbol)\n",
    "symbol.remove(samesymbol)\n",
    "if(pos1==pos2):\n",
    "    card1[pos1]=samesymbol\n",
    "    card2[pos1]=samesymbol\n",
    "else:\n",
    "    card1[pos1]=samesymbol\n",
    "    card2[pos2]=samesymbol\n",
    "    card1[pos2]=random.choice(symbol)\n",
    "    symbol.remove(card1[pos2])\n",
    "    card2[pos1]=random.choice(symbol)\n",
    "    symbol.remove(card2[pos1])\n",
    "i=0\n",
    "while(i<5):\n",
    "    if(i!=pos1 and i!=pos2):\n",
    "        alpha1=str(random.choice(symbol))\n",
    "        symbol.remove(alpha1)\n",
    "        alpha2=random.choice(symbol)\n",
    "        symbol.remove(alpha2)\n",
    "        card1[i]=alpha1\n",
    "        card2[i]=alpha2\n",
    "    i=i+1\n",
    "        \n",
    "print(\"CARD 1: \",*card1)\n",
    "print(\"CARD 2: \",*card2)\n",
    "n=input(\"What is the similar alphabet in both cards?  \")\n",
    "if(n==samesymbol):\n",
    "    print(\"///You are correct///\")\n",
    "else:\n",
    "    print(\"!!!You are wrong!!!\",\"\\n%s is the correct answer\"%samesymbol)\n"
   ]
  },
  {
   "cell_type": "code",
   "execution_count": null,
   "metadata": {},
   "outputs": [],
   "source": []
  }
 ],
 "metadata": {
  "kernelspec": {
   "display_name": "Python 3",
   "language": "python",
   "name": "python3"
  },
  "language_info": {
   "codemirror_mode": {
    "name": "ipython",
    "version": 3
   },
   "file_extension": ".py",
   "mimetype": "text/x-python",
   "name": "python",
   "nbconvert_exporter": "python",
   "pygments_lexer": "ipython3",
   "version": "3.7.1"
  }
 },
 "nbformat": 4,
 "nbformat_minor": 2
}
